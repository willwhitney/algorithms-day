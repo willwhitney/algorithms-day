{
    "cells": [
        {
            "cell_type": "code",
            "execution_count": null,
            "source": [],
            "outputs": [],
            "metadata": {}
        },
        {
            "cell_type": "markdown",
            "source": [
                "# Welcome to Algorithms Day!"
            ],
            "metadata": {}
        },
        {
            "cell_type": "code",
            "execution_count": 10,
            "source": [
                "def fac(n):\n",
                "    if n <= 1:\n",
                "        return n\n",
                "    else:\n",
                "        return fac(n-1) * n"
            ],
            "outputs": [],
            "metadata": {}
        },
        {
            "cell_type": "code",
            "execution_count": 11,
            "source": [
                "fac(4)"
            ],
            "outputs": [
                {
                    "output_type": "execute_result",
                    "data": {
                        "text/plain": [
                            "24"
                        ]
                    },
                    "metadata": {},
                    "execution_count": 11
                }
            ],
            "metadata": {}
        },
        {
            "cell_type": "code",
            "execution_count": 8,
            "source": [
                "def memoize(f):\n",
                "    cache = {}\n",
                "    def helper(x):\n",
                "        if x in cache:\n",
                "            return cache[x]\n",
                "        else:\n",
                "            output = f(x)\n",
                "            cache[x] = output\n",
                "            return output\n",
                "    return helper"
            ],
            "outputs": [],
            "metadata": {}
        },
        {
            "cell_type": "code",
            "execution_count": 12,
            "source": [
                "memoized_fac = memoize(fac)"
            ],
            "outputs": [],
            "metadata": {}
        },
        {
            "cell_type": "code",
            "execution_count": 21,
            "source": [
                "for _ in range(10):\n",
                "    for n in range(1, 2000):\n",
                "        fac(n)"
            ],
            "outputs": [],
            "metadata": {}
        },
        {
            "cell_type": "code",
            "execution_count": 22,
            "source": [
                "for _ in range(10):\n",
                "    for n in range(1, 2000):\n",
                "        memoized_fac(n)"
            ],
            "outputs": [],
            "metadata": {}
        },
        {
            "cell_type": "code",
            "execution_count": 23,
            "source": [
                "# def find_palindrome(word):\n",
                "#     # start with all individual characters\n",
                "#     # find length 2, then 3 (look for something in between)\n",
                "\n",
                "#     # go through all characters in a word, potential middle\n",
                "#     # for everything to the left, do I see something to the right\n",
                "#         # do i see same character\n",
                "    \n",
                "#     # start at left\n",
                "#     for idx, char in enumerate(word):\n",
                "#         substring = find_letter_on_right(char,word[idx:])\n",
                "#         if substring is not None:\n",
                "#             find_palindrome(substring)\n",
                "\n",
                "# def find_letter_on_right(char,substring):\n",
                "#     pass\n",
                "#     # return substring_with_letter"
            ],
            "outputs": [],
            "metadata": {}
        },
        {
            "cell_type": "code",
            "execution_count": 31,
            "source": [
                "def find_palindrome(word):\n",
                "    \"Return indices for all palindromes of each length\"\n",
                "\n",
                "    # length 1\n",
                "    idxs_of_palindromes = {1: [(idx,idx) for idx in range(len(word))]}\n",
                "\n",
                "    # first look for length two\n",
                "    idxs_of_palindromes[2] = []\n",
                "    for ii in range(len(word)-1):\n",
                "        if word[ii] == word[ii+1]:\n",
                "            idxs_of_palindromes[2].append((ii,ii+1))\n",
                "\n",
                "    ## TODO: prevent this from running after no more\n",
                "    for len_pdrome in range(3,len(word)):\n",
                "        idxs_of_palindromes[len_pdrome] = add_letter_to_pdromes(word,idxs_of_palindromes[len_pdrome-2])\n",
                "\n",
                "    return idxs_of_palindromes\n",
                "\n",
                "def add_letter_to_pdromes(word,idxs_of_pdromes):\n",
                "    pdromes_longer = []\n",
                "    for l,u in idxs_of_pdromes:\n",
                "        if 0<=l-1 and u+1<len(word) and word[l-1]==word[u+1]:\n",
                "            pdromes_longer.append((l-1,u+1))\n",
                "    return pdromes_longer\n"
            ],
            "outputs": [],
            "metadata": {}
        },
        {
            "cell_type": "code",
            "execution_count": 30,
            "source": [
                "find_palindrome('character'), find_palindrome('heel'), find_palindrome('heeel')"
            ],
            "outputs": [
                {
                    "output_type": "execute_result",
                    "data": {
                        "text/plain": [
                            "({1: [(0, 0), (1, 1), (2, 2), (3, 3), (4, 4), (5, 5), (6, 6), (7, 7), (8, 8)],\n",
                            "  2: [],\n",
                            "  3: [(2, 4)],\n",
                            "  4: [],\n",
                            "  5: [],\n",
                            "  6: [],\n",
                            "  7: [],\n",
                            "  8: []},\n",
                            " {1: [(0, 0), (1, 1), (2, 2), (3, 3)], 2: [(1, 2)], 3: []},\n",
                            " {1: [(0, 0), (1, 1), (2, 2), (3, 3), (4, 4)],\n",
                            "  2: [(1, 2), (2, 3)],\n",
                            "  3: [(1, 3)],\n",
                            "  4: []})"
                        ]
                    },
                    "metadata": {},
                    "execution_count": 30
                }
            ],
            "metadata": {}
        },
        {
            "cell_type": "code",
            "execution_count": 25,
            "source": [
                "[a for a  in 'asdf']"
            ],
            "outputs": [
                {
                    "output_type": "execute_result",
                    "data": {
                        "text/plain": [
                            "['a', 's', 'd', 'f']"
                        ]
                    },
                    "metadata": {},
                    "execution_count": 25
                }
            ],
            "metadata": {}
        },
        {
            "cell_type": "code",
            "execution_count": null,
            "source": [
                "# assert find_palindrome('character') == 'carac'\n",
                "assert find_palindrome('character') == 'ara'\n",
                "assert find_palindrome('heel') == 'ee'"
            ],
            "outputs": [],
            "metadata": {}
        }
    ],
    "metadata": {
        "orig_nbformat": 4,
        "language_info": {
            "name": "python",
            "version": "3.8.3",
            "mimetype": "text/x-python",
            "codemirror_mode": {
                "name": "ipython",
                "version": 3
            },
            "pygments_lexer": "ipython3",
            "nbconvert_exporter": "python",
            "file_extension": ".py"
        },
        "kernelspec": {
            "name": "python3",
            "display_name": "Python 3.8.3 64-bit ('base': conda)"
        },
        "interpreter": {
            "hash": "2123c751e31926fa9deb19ca64caa6ff7891de3c5c858433cf95a6be82feef6c"
        }
    },
    "nbformat": 4,
    "nbformat_minor": 2
}